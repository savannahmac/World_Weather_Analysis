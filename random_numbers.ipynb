{
 "cells": [
  {
   "cell_type": "code",
   "execution_count": 25,
   "id": "f67d986c",
   "metadata": {},
   "outputs": [],
   "source": [
    "# Import the random module.\n",
    "import random"
   ]
  },
  {
   "cell_type": "code",
   "execution_count": 26,
   "id": "b78b32a4",
   "metadata": {},
   "outputs": [
    {
     "data": {
      "text/plain": [
       "-35"
      ]
     },
     "execution_count": 26,
     "metadata": {},
     "output_type": "execute_result"
    }
   ],
   "source": [
    "random.randint(-90,90)"
   ]
  },
  {
   "cell_type": "code",
   "execution_count": 27,
   "id": "ede7bf8a",
   "metadata": {},
   "outputs": [
    {
     "data": {
      "text/plain": [
       "0.9773221975286669"
      ]
     },
     "execution_count": 27,
     "metadata": {},
     "output_type": "execute_result"
    }
   ],
   "source": [
    "random.random()"
   ]
  },
  {
   "cell_type": "code",
   "execution_count": 28,
   "id": "efad353a",
   "metadata": {},
   "outputs": [],
   "source": [
    "x = 1\n",
    "latitudes = []\n",
    "while x < 11:\n",
    "    random_lat = random.randint(-90, 89) + random.random()\n",
    "    latitudes.append(random_lat)\n",
    "    x += 1"
   ]
  },
  {
   "cell_type": "code",
   "execution_count": 29,
   "id": "638fc481",
   "metadata": {},
   "outputs": [
    {
     "data": {
      "text/plain": [
       "[-87.25004440737227,\n",
       " -32.800899630028844,\n",
       " -56.16892548749994,\n",
       " 78.17250336203215,\n",
       " -14.714553221175686,\n",
       " 25.457876199562545,\n",
       " 89.11868351686707,\n",
       " -27.728359254144873,\n",
       " -89.93419251662519,\n",
       " -46.84724499872543]"
      ]
     },
     "execution_count": 29,
     "metadata": {},
     "output_type": "execute_result"
    }
   ],
   "source": [
    "latitudes"
   ]
  },
  {
   "cell_type": "code",
   "execution_count": 30,
   "id": "2f4c6bad",
   "metadata": {},
   "outputs": [
    {
     "data": {
      "text/plain": [
       "46"
      ]
     },
     "execution_count": 30,
     "metadata": {},
     "output_type": "execute_result"
    }
   ],
   "source": [
    "random.randrange(-90, 90, step=1)"
   ]
  },
  {
   "cell_type": "code",
   "execution_count": 31,
   "id": "b768d161",
   "metadata": {},
   "outputs": [
    {
     "data": {
      "text/plain": [
       "-3"
      ]
     },
     "execution_count": 31,
     "metadata": {},
     "output_type": "execute_result"
    }
   ],
   "source": [
    "random.randrange(-90, 90, step=3)"
   ]
  },
  {
   "cell_type": "code",
   "execution_count": 32,
   "id": "58e68040",
   "metadata": {},
   "outputs": [
    {
     "data": {
      "text/plain": [
       "-1.4386190497834974"
      ]
     },
     "execution_count": 32,
     "metadata": {},
     "output_type": "execute_result"
    }
   ],
   "source": [
    "random.uniform(-90, 90)"
   ]
  },
  {
   "cell_type": "code",
   "execution_count": 4,
   "id": "4d042a21",
   "metadata": {},
   "outputs": [],
   "source": [
    "# Import the NumPy module.\n",
    "import numpy as np"
   ]
  },
  {
   "cell_type": "code",
   "execution_count": 34,
   "id": "84b02fc6",
   "metadata": {},
   "outputs": [
    {
     "data": {
      "text/plain": [
       "-7.832864556589783"
      ]
     },
     "execution_count": 34,
     "metadata": {},
     "output_type": "execute_result"
    }
   ],
   "source": [
    "np.random.uniform(-90.000, 90.000)"
   ]
  },
  {
   "cell_type": "code",
   "execution_count": 35,
   "id": "eb162368",
   "metadata": {},
   "outputs": [
    {
     "data": {
      "text/plain": [
       "-4.003004835334423"
      ]
     },
     "execution_count": 35,
     "metadata": {},
     "output_type": "execute_result"
    }
   ],
   "source": [
    "np.random.uniform(low=-90, high=90)"
   ]
  },
  {
   "cell_type": "code",
   "execution_count": 36,
   "id": "aa995603",
   "metadata": {},
   "outputs": [
    {
     "data": {
      "text/plain": [
       "array([-66.25964397, -66.1311222 ,  33.80925457, -85.55341255,\n",
       "        34.93349819,   5.13105122, -42.66316091,  67.3345357 ,\n",
       "        38.45368024,  33.41087444, -22.5610947 , -43.13995224,\n",
       "        25.80557463, -47.93414984, -43.14912767, -58.45326635,\n",
       "       -30.29407056, -60.90225852,  70.34858511,  25.54647513,\n",
       "         2.85877638,  64.64878645,  35.60502255,  10.26167565,\n",
       "        74.15536847,  -6.14177872,  79.57355961,  84.81066067,\n",
       "        75.45373402,  17.73547497,  -2.34515891,  57.52987179,\n",
       "       -32.08116487, -70.49900081,   6.66693943,  40.75088248,\n",
       "       -36.57956251,  29.97187558, -65.53949664, -81.26141704,\n",
       "        27.79424371, -64.52116494, -50.0060375 ,  50.71287674,\n",
       "        30.74702309, -13.6142882 ,  46.7932187 ,  34.30072496,\n",
       "       -76.1549762 , -83.91111192])"
      ]
     },
     "execution_count": 36,
     "metadata": {},
     "output_type": "execute_result"
    }
   ],
   "source": [
    "np.random.uniform(-90.000, 90.000, size=50)"
   ]
  },
  {
   "cell_type": "code",
   "execution_count": 40,
   "id": "cde7fde1",
   "metadata": {},
   "outputs": [],
   "source": [
    "# Import timeit.\n",
    "import timeit"
   ]
  },
  {
   "cell_type": "code",
   "execution_count": 41,
   "id": "1387988f",
   "metadata": {},
   "outputs": [
    {
     "name": "stdout",
     "output_type": "stream",
     "text": [
      "12.4 µs ± 177 ns per loop (mean ± std. dev. of 7 runs, 100000 loops each)\n"
     ]
    }
   ],
   "source": [
    "%timeit np.random.uniform(-90.000, 90.000, size=1500)"
   ]
  },
  {
   "cell_type": "code",
   "execution_count": 43,
   "id": "6b372d39",
   "metadata": {},
   "outputs": [
    {
     "name": "stdout",
     "output_type": "stream",
     "text": [
      "1.46 ms ± 159 µs per loop (mean ± std. dev. of 7 runs, 1000 loops each)\n"
     ]
    }
   ],
   "source": [
    "#def latitudes(size):\n",
    "    #latitudes = []\n",
    "    #x = 0\n",
    "    #while x < (size):\n",
    "        #random_lat = random.randint(-90, 90) + random.random()\n",
    "        #latitudes.append(random_lat)\n",
    "        #x += 1\n",
    "    #return latitudes\n",
    "# Call the function with 1500.\n",
    "#%timeit latitudes(1500)"
   ]
  },
  {
   "cell_type": "code",
   "execution_count": 5,
   "id": "786fa57b",
   "metadata": {},
   "outputs": [
    {
     "name": "stdout",
     "output_type": "stream",
     "text": [
      "26.6 ms ± 257 µs per loop (mean ± std. dev. of 7 runs, 10 loops each)\n"
     ]
    }
   ],
   "source": [
    "def latitudes(size):\n",
    "    latitudes = []\n",
    "    x = 0\n",
    "    while x < (size):\n",
    "        random_lat = np.random.uniform(-90.000, 90.000, size = 1500)\n",
    "        latitudes.append(random_lat)\n",
    "        x += 1\n",
    "    return latitudes\n",
    "\n",
    "%timeit latitudes(1500)\n",
    "        "
   ]
  },
  {
   "cell_type": "code",
   "execution_count": null,
   "id": "755df932",
   "metadata": {},
   "outputs": [],
   "source": []
  }
 ],
 "metadata": {
  "kernelspec": {
   "display_name": "PythonData",
   "language": "python",
   "name": "pythondata"
  },
  "language_info": {
   "codemirror_mode": {
    "name": "ipython",
    "version": 3
   },
   "file_extension": ".py",
   "mimetype": "text/x-python",
   "name": "python",
   "nbconvert_exporter": "python",
   "pygments_lexer": "ipython3",
   "version": "3.9.7"
  }
 },
 "nbformat": 4,
 "nbformat_minor": 5
}
